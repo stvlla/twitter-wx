{
 "cells": [
  {
   "cell_type": "code",
   "execution_count": 34,
   "metadata": {
    "collapsed": false
   },
   "outputs": [],
   "source": [
    "import tweepy\n",
    "from tweepy import OAuthHandler, Stream\n",
    "from tweepy.streaming import StreamListener\n",
    "import json\n",
    "import pandas as pd\n",
    "import xlrd\n",
    "import datetime\n",
    "import pytz\n",
    "import numpy as np"
   ]
  },
  {
   "cell_type": "code",
   "execution_count": 35,
   "metadata": {
    "collapsed": false
   },
   "outputs": [],
   "source": [
    "def is_rate_limit_error(e):\n",
    "    return isinstance(e.message, list) \\\n",
    "        and e.message[0:] \\\n",
    "        and 'code' in e.message[0] \\\n",
    "        and e.message[0]['code'] == 88\n",
    "\n",
    "consumer_key = ''\n",
    "consumer_secret = ''\n",
    "access_token = ''\n",
    "access_secret = ''\n",
    "\n",
    "auth = OAuthHandler(consumer_key, consumer_secret)\n",
    "auth.set_access_token(access_token, access_secret)\n",
    "api = tweepy.API(auth, wait_on_rate_limit=True, wait_on_rate_limit_notify=True)"
   ]
  },
  {
   "cell_type": "code",
   "execution_count": 50,
   "metadata": {
    "collapsed": true
   },
   "outputs": [],
   "source": [
    "## make list of files\n",
    "pathin = ''\n",
    "pathout= ''\n",
    "filein = []"
   ]
  },
  {
   "cell_type": "code",
   "execution_count": null,
   "metadata": {
    "collapsed": true
   },
   "outputs": [],
   "source": [
    "for eachFile in filein:\n",
    "    xls = pd.ExcelFile(pathin+eachFile+'.xls')\n",
    "    df = xls.parse(0)\n",
    "    df['Content'] = \"\"\n",
    "    df['UTC'] = \"\"\n",
    "\n",
    "    for i in range (0,len(df)):\n",
    "        try:\n",
    "            gettweet=api.get_status(df['GUID'][i])\n",
    "            json_str = json.dumps(gettweet._json)\n",
    "            gettweet=json_str.split(', \"')\n",
    "            tweet=gettweet[2].split(': \"')[1][:(len(gettweet[2].split(': \"')[1])-1)]\n",
    "            gettweet.reverse()\n",
    "            pref=\"created_at\"\n",
    "            try:\n",
    "                check=gettweet[2].split(': \"')[1][:(len(gettweet[2].split(': \"')[1])-1)]\n",
    "                if check==\"photo\" or check==\"video\" or check==\"animated gif\":\n",
    "                    for j in range(0,len(gettweet)):\n",
    "                        if gettweet[j].startswith(pref):\n",
    "                            date=gettweet[j].split(': \"')[1][:(len(gettweet[j].split(': \"')[1])-1)]\n",
    "                            break\n",
    "                else:\n",
    "                    date=check\n",
    "            except IndexError:\n",
    "                for j in range(0,len(gettweet)):\n",
    "                    if gettweet[j].startswith(pref):\n",
    "                        date=gettweet[j].split(': \"')[1][:(len(gettweet[j].split(': \"')[1])-1)]\n",
    "                        break\n",
    "            df['Content'][i] = tweet\n",
    "            df['UTC'][i] = date\n",
    "            print i, date\n",
    "        except tweepy.TweepError, e:\n",
    "            if not is_rate_limit_error(e):\n",
    "                pass\n",
    "            else:\n",
    "                current=datetime.datetime.now()\n",
    "                print current.hour,':',current.minute\n",
    "\n",
    "    df.to_csv((pathout+eachFile+'.csv'), sep=',', encoding='utf-8')"
   ]
  }
 ],
 "metadata": {
  "kernelspec": {
   "display_name": "Python 2",
   "language": "python",
   "name": "python2"
  },
  "language_info": {
   "codemirror_mode": {
    "name": "ipython",
    "version": 2
   },
   "file_extension": ".py",
   "mimetype": "text/x-python",
   "name": "python",
   "nbconvert_exporter": "python",
   "pygments_lexer": "ipython2",
   "version": "2.7.11"
  }
 },
 "nbformat": 4,
 "nbformat_minor": 0
}
